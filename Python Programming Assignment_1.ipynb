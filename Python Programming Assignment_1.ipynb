{
 "cells": [
  {
   "cell_type": "markdown",
   "id": "637b47a5",
   "metadata": {},
   "source": [
    "## Programming Assignment_1\n",
    "-------------"
   ]
  },
  {
   "cell_type": "markdown",
   "id": "0c647dbe",
   "metadata": {},
   "source": [
    "### 1. Write a Python program to print \"Hello Python\"?"
   ]
  },
  {
   "cell_type": "code",
   "execution_count": 2,
   "id": "82b52e94",
   "metadata": {},
   "outputs": [
    {
     "name": "stdout",
     "output_type": "stream",
     "text": [
      "Hello world\n"
     ]
    }
   ],
   "source": [
    "print(\"Hello world\")\n"
   ]
  },
  {
   "cell_type": "markdown",
   "id": "fc18a6cd",
   "metadata": {},
   "source": [
    "### 2. Write a Python program to do arithmetical operations addition and division.?\n",
    "a=10\n",
    "b=20\n",
    "print(a+b)\n",
    "print(a/b)\n",
    "\n",
    "\n"
   ]
  },
  {
   "cell_type": "markdown",
   "id": "af6e2429",
   "metadata": {},
   "source": [
    "### 3. Write a Python program to find the area of a triangle?\n",
    "h = float(input(\"Enter height of the triangle: \"))\n",
    "b = float(input(\"Enter base of the triangle: \"))\n",
    "area = 0.5 * b * h\n",
    "print(\"Area of triangle = \", area)"
   ]
  },
  {
   "cell_type": "markdown",
   "id": "bca59b26",
   "metadata": {},
   "source": []
  },
  {
   "cell_type": "markdown",
   "id": "b8fcfd28",
   "metadata": {},
   "source": []
  },
  {
   "cell_type": "code",
   "execution_count": null,
   "id": "533e613e",
   "metadata": {},
   "outputs": [],
   "source": []
  },
  {
   "cell_type": "markdown",
   "id": "b8140061",
   "metadata": {},
   "source": [
    "### 4. Write a Python program to swap two variables?\n",
    "x=10\n",
    "y=5\n",
    "\n",
    "temp=x\n",
    "x=y\n",
    "y=temp\n",
    "print(\"value after swapping:\",format(x))\n",
    "print(\"vlaue after swapping:\",format(y))"
   ]
  },
  {
   "cell_type": "markdown",
   "id": "3f8054c1",
   "metadata": {},
   "source": [
    "### 5. Write a Python program to generate a random number?\n",
    "import random\n",
    "\n",
    "def generate_random_number(min_range, max_range):\n",
    "    return random.randint(min_range, max_range)\n",
    "\n",
    "min_value = 1\n",
    "max_value = 100\n",
    "\n",
    "random_number = generate_random_number(min_value, max_value)\n",
    "print(\"Random number between\", min_value, \"and\", max_value, \":\", random_number)\n"
   ]
  }
 ],
 "metadata": {
  "kernelspec": {
   "display_name": "Python 3 (ipykernel)",
   "language": "python",
   "name": "python3"
  },
  "language_info": {
   "codemirror_mode": {
    "name": "ipython",
    "version": 3
   },
   "file_extension": ".py",
   "mimetype": "text/x-python",
   "name": "python",
   "nbconvert_exporter": "python",
   "pygments_lexer": "ipython3",
   "version": "3.11.4"
  }
 },
 "nbformat": 4,
 "nbformat_minor": 5
}
